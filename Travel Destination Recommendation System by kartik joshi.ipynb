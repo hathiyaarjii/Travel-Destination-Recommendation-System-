{
 "cells": [
  {
   "cell_type": "markdown",
   "metadata": {},
   "source": [
    "# Travel Destination Recommendation System\n",
    "                                                                     -by Kartik joshi\n",
    "- Version 1: Recommendations based on Previously Visited Destination\n",
    "- Version 2: Recommendations based on Free Text-based Query from the User"
   ]
  },
  {
   "cell_type": "code",
   "execution_count": 1,
   "metadata": {},
   "outputs": [],
   "source": [
    "import numpy as np\n",
    "import pandas as pd\n",
    "import matplotlib.pyplot as plt"
   ]
  },
  {
   "cell_type": "code",
   "execution_count": null,
   "metadata": {},
   "outputs": [],
   "source": [
    "#df = pd.read_csv('final_dataset_wo_duplicates.csv')\n",
    "df = pd.read_csv('travel_destinations.csv')\n",
    "df"
   ]
  },
  {
   "cell_type": "markdown",
   "metadata": {},
   "source": [
    "# Create index_destination_dict"
   ]
  },
  {
   "cell_type": "code",
   "execution_count": null,
   "metadata": {},
   "outputs": [],
   "source": [
    "index_destination_dict = {}\n",
    "for i in range(len(df)):\n",
    "    index_destination_dict[i] = df.loc[i]['City']\n",
    "index_destination_dict"
   ]
  },
  {
   "cell_type": "markdown",
   "metadata": {},
   "source": [
    "# Create destination_index_dict"
   ]
  },
  {
   "cell_type": "code",
   "execution_count": null,
   "metadata": {},
   "outputs": [],
   "source": [
    "destination_index_dict = {}\n",
    "for i in range(len(df)):\n",
    "    destination_index_dict[df.loc[i]['City']] = i\n",
    "destination_index_dict"
   ]
  },
  {
   "cell_type": "code",
   "execution_count": null,
   "metadata": {},
   "outputs": [],
   "source": [
    "df.columns"
   ]
  },
  {
   "cell_type": "code",
   "execution_count": null,
   "metadata": {},
   "outputs": [],
   "source": [
    "df.drop(['City', 'Tags', 'State', 'Old_age', 'Young_age', 'link 1',\n",
    "       'Avg Expense Per Day', 'historical & heritage', 'city', 'pilgrimage',\n",
    "       'hill station', 'beach', 'lake & backwater', 'adventure / trekking',\n",
    "       'wildlife', 'waterfall', 'nature & scenic', 'keys'], axis = 1, inplace = True)\n",
    "df"
   ]
  },
  {
   "cell_type": "markdown",
   "metadata": {},
   "source": [
    "# Text Preprocessing"
   ]
  },
  {
   "cell_type": "code",
   "execution_count": 12,
   "metadata": {},
   "outputs": [],
   "source": [
    "import re\n",
    "from nltk.corpus import stopwords\n",
    "from nltk.stem import WordNetLemmatizer\n",
    "wl = WordNetLemmatizer()"
   ]
  },
  {
   "cell_type": "code",
   "execution_count": null,
   "metadata": {},
   "outputs": [],
   "source": [
    "corpus = []\n",
    "for i in range(len(df)):\n",
    "    # Remove Hyperlinks\n",
    "    destination = re.sub(r\"http\\S+\", ' ', df['description'][i])\n",
    "    \n",
    "    # Remove Punctuation Marks and Special Symbols\n",
    "    destination = re.sub('[^a-zA-Z0-9]', ' ', destination)\n",
    "    \n",
    "    # Lowercase\n",
    "    destination = destination.lower()\n",
    "    \n",
    "    # Tokenization\n",
    "    word_list = destination.split()\n",
    "    \n",
    "    # Remove Stopwords and perform Stemming / Lemmatization\n",
    "    word_list = [wl.lemmatize(word, pos = 'v') for word in word_list if not word in stopwords.words('english')]    \n",
    "    destination = ' '.join(word_list)\n",
    "    corpus.append(destination)\n",
    "    print(i, end = ' ')"
   ]
  },
  {
   "cell_type": "code",
   "execution_count": null,
   "metadata": {},
   "outputs": [],
   "source": [
    "corpus[0]"
   ]
  },
  {
   "cell_type": "code",
   "execution_count": null,
   "metadata": {},
   "outputs": [],
   "source": [
    "df['Processed Text'] = corpus\n",
    "df"
   ]
  },
  {
   "cell_type": "markdown",
   "metadata": {},
   "source": [
    "# Text to Vector Conversion"
   ]
  },
  {
   "cell_type": "code",
   "execution_count": null,
   "metadata": {},
   "outputs": [],
   "source": [
    "# - Count Vectorizer\n",
    "# - TFIDF Vectorizer\n",
    "# - Hashing Vectorizer\n",
    "# - Glove\n",
    "# - FastText\n",
    "# - Word2Vec\n",
    "# - BERT\n",
    "# ...\n",
    "# ...\n",
    "# ..."
   ]
  },
  {
   "cell_type": "markdown",
   "metadata": {},
   "source": [
    "# Count Vectorizer"
   ]
  },
  {
   "cell_type": "code",
   "execution_count": null,
   "metadata": {},
   "outputs": [],
   "source": [
    "from sklearn.feature_extraction.text import CountVectorizer\n",
    "cv = CountVectorizer()\n",
    "vectors_cv = cv.fit_transform(corpus)\n",
    "df['vectors_cv'] = list(vectors_cv.toarray())\n",
    "df"
   ]
  },
  {
   "cell_type": "markdown",
   "metadata": {},
   "source": [
    "# TFIDF Vectorizer"
   ]
  },
  {
   "cell_type": "code",
   "execution_count": null,
   "metadata": {},
   "outputs": [],
   "source": [
    "from sklearn.feature_extraction.text import TfidfVectorizer\n",
    "tv = TfidfVectorizer()\n",
    "vectors_tv = tv.fit_transform(corpus)\n",
    "df['vectors_tv'] = list(vectors_tv.toarray())\n",
    "df"
   ]
  },
  {
   "cell_type": "markdown",
   "metadata": {},
   "source": [
    "# Hashing Vectorizer"
   ]
  },
  {
   "cell_type": "code",
   "execution_count": null,
   "metadata": {},
   "outputs": [],
   "source": [
    "from sklearn.feature_extraction.text import HashingVectorizer\n",
    "hv = HashingVectorizer()\n",
    "vectors_hv = hv.fit_transform(corpus)\n",
    "df['vectors_hv'] = list(vectors_hv.toarray())\n",
    "df"
   ]
  },
  {
   "cell_type": "markdown",
   "metadata": {},
   "source": [
    "# Version 1: Recommendations based on Recently Visited Destination"
   ]
  },
  {
   "cell_type": "code",
   "execution_count": null,
   "metadata": {},
   "outputs": [],
   "source": [
    "destination = input('Enter the recently visited destination: ')\n",
    "number_of_recommendations = int(input('How many recommendations do you want? '))"
   ]
  },
  {
   "cell_type": "code",
   "execution_count": null,
   "metadata": {},
   "outputs": [],
   "source": [
    "from sklearn.metrics.pairwise import cosine_similarity\n",
    "similarity_matrix = cosine_similarity(vectors_cv.toarray())\n",
    "idx = destination_index_dict[destination]\n",
    "similarity_list = similarity_matrix[idx]\n",
    "lst = []\n",
    "for i in range(len(similarity_list)):\n",
    "    lst.append((similarity_list[i], i))\n",
    "lst.sort(reverse = True)\n",
    "recommendations = []\n",
    "for i in range(len(lst)):\n",
    "    recommendations.append(index_destination_dict[lst[i][1]])\n",
    "recommendations.remove(destination)\n",
    "recommendations[:number_of_recommendations]"
   ]
  },
  {
   "cell_type": "code",
   "execution_count": null,
   "metadata": {},
   "outputs": [],
   "source": [
    "index_destination_dict = {}\n",
    "for i in range(len(df)):\n",
    "    index_destination_dict[i] = df.loc[i]['City']\n",
    "index_destination_dict"
   ]
  },
  {
   "cell_type": "code",
   "execution_count": null,
   "metadata": {},
   "outputs": [],
   "source": [
    "destination_index_dict = {}\n",
    "for i in range(len(df)):\n",
    "    destination_index_dict[df.loc[i]['City']] = i \n",
    "destination_index_dict"
   ]
  },
  {
   "cell_type": "code",
   "execution_count": null,
   "metadata": {},
   "outputs": [],
   "source": [
    "df"
   ]
  },
  {
   "cell_type": "code",
   "execution_count": null,
   "metadata": {},
   "outputs": [],
   "source": [
    "df.columns"
   ]
  },
  {
   "cell_type": "code",
   "execution_count": null,
   "metadata": {},
   "outputs": [],
   "source": [
    "df.drop(['City', 'Tags', 'State', 'Old_age', 'Young_age', 'link 1',\n",
    "       'Avg Expense Per Day','keys', 'description'], axis = 1, inplace = True)\n",
    "df"
   ]
  },
  {
   "cell_type": "code",
   "execution_count": null,
   "metadata": {},
   "outputs": [],
   "source": [
    "destination_tags = df.to_numpy()\n",
    "destination_tags"
   ]
  },
  {
   "cell_type": "code",
   "execution_count": null,
   "metadata": {},
   "outputs": [],
   "source": [
    "destination_tags.shape"
   ]
  },
  {
   "cell_type": "code",
   "execution_count": null,
   "metadata": {},
   "outputs": [],
   "source": [
    "from sklearn.metrics.pairwise import sigmoid_kernel\n",
    "correlationMatrix = sigmoid_kernel(destination_tags, destination_tags)\n",
    "print(correlationMatrix)"
   ]
  },
  {
   "cell_type": "code",
   "execution_count": null,
   "metadata": {},
   "outputs": [],
   "source": [
    "# from sklearn.metrics.pairwise import cosine_similarity\n",
    "# correlationMatrix = cosine_similarity(destination_tags, destination_tags)\n",
    "# print(correlationMatrix)"
   ]
  },
  {
   "cell_type": "code",
   "execution_count": null,
   "metadata": {},
   "outputs": [],
   "source": [
    "correlationMatrix.shape"
   ]
  },
  {
   "cell_type": "markdown",
   "metadata": {},
   "source": [
    "# Recommendation based on Recently Visited Destination"
   ]
  },
  {
   "cell_type": "code",
   "execution_count": 14,
   "metadata": {},
   "outputs": [],
   "source": [
    "def getRecommendations(destination_name):\n",
    "    idx = destination_index_dict[destination_name]\n",
    "    similarity_list = correlationMatrix[idx]\n",
    "    lst = []\n",
    "    for i in range(len(similarity_list)):\n",
    "        lst.append((similarity_list[i],i))\n",
    "    return sorted(lst, reverse = True)"
   ]
  },
  {
   "cell_type": "code",
   "execution_count": null,
   "metadata": {},
   "outputs": [],
   "source": [
    "recommendations_list = getRecommendations('Shimla')\n",
    "for element in recommendations_list[:10]:\n",
    "    print(index_destination_dict[element[1]])"
   ]
  },
  {
   "cell_type": "code",
   "execution_count": null,
   "metadata": {},
   "outputs": [],
   "source": []
  },
  {
   "cell_type": "markdown",
   "metadata": {},
   "source": [
    "# Recommendation based on free text-based query"
   ]
  },
  {
   "cell_type": "code",
   "execution_count": null,
   "metadata": {},
   "outputs": [],
   "source": [
    "df = pd.read_csv('travel_destinations.csv')\n",
    "df"
   ]
  },
  {
   "cell_type": "code",
   "execution_count": null,
   "metadata": {},
   "outputs": [],
   "source": [
    "df['description']"
   ]
  },
  {
   "cell_type": "markdown",
   "metadata": {},
   "source": [
    "# Create corpus of processed text"
   ]
  },
  {
   "cell_type": "code",
   "execution_count": 20,
   "metadata": {},
   "outputs": [],
   "source": [
    "import re\n",
    "from nltk.corpus import stopwords\n",
    "from nltk.stem import WordNetLemmatizer\n",
    "wl = WordNetLemmatizer()"
   ]
  },
  {
   "cell_type": "code",
   "execution_count": null,
   "metadata": {},
   "outputs": [],
   "source": [
    "from nltk.corpus import stopwords\n",
    "len(stopwords.words('english'))"
   ]
  },
  {
   "cell_type": "code",
   "execution_count": null,
   "metadata": {},
   "outputs": [],
   "source": [
    "corpus = []\n",
    "for i in range(len(df)):\n",
    "    #Remove Hyperlinks\n",
    "    destination = re.sub(r\"http\\S+\", ' ', df['description'][i])    \n",
    "    #destination = re.sub(r'https?:\\/\\/\\S*', '', df['description'][i], flags=re.MULTILINE)\n",
    "    \n",
    "    #Remove Punctuation Marks and Special Symbols\n",
    "    destination = re.sub('[^a-zA-Z0-9]', ' ', destination)\n",
    "    \n",
    "    #Lowercase\n",
    "    destination = destination.lower()\n",
    "    \n",
    "    #Create a list of strings using string.split() method\n",
    "    destination = destination.split()\n",
    "    \n",
    "    # Prefer Lemmatization over Stemming\n",
    "    #destination = [ps.stem(word) for word in destination if not word in stopwords.words('english')]\n",
    "    destination = [wl.lemmatize(word, pos='v') for word in destination if not word in stopwords.words('english')]    \n",
    "    destination = ' '.join(destination)\n",
    "    corpus.append(destination)\n",
    "    print(i, end = ' ')"
   ]
  },
  {
   "cell_type": "code",
   "execution_count": null,
   "metadata": {},
   "outputs": [],
   "source": [
    "df.columns"
   ]
  },
  {
   "cell_type": "code",
   "execution_count": null,
   "metadata": {},
   "outputs": [],
   "source": [
    "df.drop(['Tags', 'State', 'Old_age', 'Young_age', 'link 1',\n",
    "       'Avg Expense Per Day', 'historical & heritage', 'city', 'pilgrimage',\n",
    "       'hill station', 'beach', 'lake & backwater', 'adventure / trekking',\n",
    "       'wildlife', 'waterfall', 'nature & scenic', 'keys'], axis = 1, inplace =True)\n",
    "df"
   ]
  },
  {
   "cell_type": "code",
   "execution_count": 24,
   "metadata": {},
   "outputs": [],
   "source": [
    "df['processed_text'] = corpus\n",
    "df.to_csv('destinations_with_processed_text.csv', index = False)"
   ]
  },
  {
   "cell_type": "code",
   "execution_count": null,
   "metadata": {},
   "outputs": [],
   "source": [
    "df"
   ]
  },
  {
   "cell_type": "code",
   "execution_count": 26,
   "metadata": {},
   "outputs": [],
   "source": [
    "from sklearn.feature_extraction.text import CountVectorizer\n",
    "cv = CountVectorizer()\n",
    "X = cv.fit_transform(corpus)"
   ]
  },
  {
   "cell_type": "code",
   "execution_count": null,
   "metadata": {},
   "outputs": [],
   "source": [
    "X"
   ]
  },
  {
   "cell_type": "code",
   "execution_count": null,
   "metadata": {},
   "outputs": [],
   "source": [
    "vectors = X.toarray()\n",
    "vectors"
   ]
  },
  {
   "cell_type": "code",
   "execution_count": null,
   "metadata": {},
   "outputs": [],
   "source": [
    "df['vectors_cv'] = list(vectors)\n",
    "df"
   ]
  },
  {
   "cell_type": "code",
   "execution_count": 32,
   "metadata": {},
   "outputs": [],
   "source": [
    "# from sklearn.feature_extraction.text import TfidfVectorizer\n",
    "# tv = TfidfVectorizer()\n",
    "# X_tv = tv.fit_transform(corpus)"
   ]
  },
  {
   "cell_type": "code",
   "execution_count": 33,
   "metadata": {},
   "outputs": [],
   "source": [
    "# X_tv.toarray()"
   ]
  },
  {
   "cell_type": "code",
   "execution_count": null,
   "metadata": {},
   "outputs": [],
   "source": [
    "from sklearn.metrics.pairwise import sigmoid_kernel\n",
    "correlationMatrix = sigmoid_kernel(vectors, vectors)\n",
    "print(correlationMatrix)"
   ]
  },
  {
   "cell_type": "code",
   "execution_count": 35,
   "metadata": {},
   "outputs": [],
   "source": [
    "def getRecommendations(destination_name):\n",
    "    idx = destination_index_dict[destination_name]\n",
    "    similarity_list = correlationMatrix[idx]\n",
    "    lst = []\n",
    "    for i in range(len(similarity_list)):\n",
    "        lst.append((similarity_list[i],i))\n",
    "    return sorted(lst, reverse = True)"
   ]
  },
  {
   "cell_type": "code",
   "execution_count": null,
   "metadata": {},
   "outputs": [],
   "source": [
    "recommendations_list = getRecommendations('Dachigam National Park')\n",
    "for element in recommendations_list[:10]:\n",
    "    print(index_destination_dict[element[1]])"
   ]
  },
  {
   "cell_type": "code",
   "execution_count": null,
   "metadata": {
    "scrolled": false
   },
   "outputs": [],
   "source": [
    "recommendations_list = getRecommendations('Araku Valley')\n",
    "for element in recommendations_list[:10]:\n",
    "    print(index_destination_dict[element[1]])"
   ]
  },
  {
   "cell_type": "markdown",
   "metadata": {},
   "source": [
    "# Input a free text based query from the user"
   ]
  },
  {
   "cell_type": "code",
   "execution_count": null,
   "metadata": {},
   "outputs": [],
   "source": [
    "query = str(input('Enter a free text to get relvent destination recommendations: '))"
   ]
  },
  {
   "cell_type": "code",
   "execution_count": 39,
   "metadata": {},
   "outputs": [],
   "source": [
    "#Remove Hyperlinks\n",
    "processed_query = re.sub(r\"http\\S+\", ' ', query)    \n",
    "#processed_query = re.sub(r'https?:\\/\\/\\S*', '', query, flags=re.MULTILINE)\n",
    "\n",
    "#Remove Punctuation Marks and Special Symbols\n",
    "processed_query = re.sub('[^a-zA-Z0-9]', ' ', processed_query)\n",
    "\n",
    "#Lowercase\n",
    "processed_query = processed_query.lower()\n",
    "\n",
    "#Create a list of strings using string.split() method\n",
    "processed_query = processed_query.split()\n",
    "\n",
    "# Prefer Lemmatization over Stemming\n",
    "#processed_query = [ps.stem(word) for word in processed_query if not word in stopwords.words('english')]\n",
    "processed_query = [wl.lemmatize(word, pos='v') for word in processed_query if not word in stopwords.words('english')]    \n",
    "processed_query = ' '.join(processed_query)\n",
    "# corpus.append(processed_query)\n",
    "# print(i, end = ' ')"
   ]
  },
  {
   "cell_type": "code",
   "execution_count": null,
   "metadata": {},
   "outputs": [],
   "source": [
    "processed_query"
   ]
  },
  {
   "cell_type": "code",
   "execution_count": 41,
   "metadata": {},
   "outputs": [],
   "source": [
    "# corpus"
   ]
  },
  {
   "cell_type": "code",
   "execution_count": null,
   "metadata": {},
   "outputs": [],
   "source": [
    "new_corpus = []\n",
    "for desc in corpus:\n",
    "    new_corpus.append(desc)\n",
    "new_corpus.append(processed_query)\n",
    "new_corpus[0]"
   ]
  },
  {
   "cell_type": "code",
   "execution_count": null,
   "metadata": {},
   "outputs": [],
   "source": [
    "from sklearn.feature_extraction.text import CountVectorizer\n",
    "cv = CountVectorizer()\n",
    "new_X = cv.fit_transform(new_corpus)\n",
    "new_vectors = new_X.toarray()\n",
    "\n",
    "from sklearn.metrics.pairwise import sigmoid_kernel\n",
    "new_correlationMatrix = sigmoid_kernel(new_vectors, new_vectors)\n",
    "print(new_correlationMatrix)"
   ]
  },
  {
   "cell_type": "code",
   "execution_count": null,
   "metadata": {},
   "outputs": [],
   "source": [
    "list_of_tuples = []\n",
    "for i in range(len(df)):\n",
    "    list_of_tuples.append((new_correlationMatrix[-1][i], i))\n",
    "sorted_list_of_tuples = sorted(list_of_tuples, reverse = True)\n",
    "for element in sorted_list_of_tuples[:10]:\n",
    "    print(index_destination_dict[element[1]])"
   ]
  },
  {
   "cell_type": "code",
   "execution_count": 45,
   "metadata": {},
   "outputs": [],
   "source": [
    "def getRecommendations_based_on_free_text_based_query(query, num):\n",
    "    #Remove Hyperlinks\n",
    "    processed_query = re.sub(r\"http\\S+\", ' ', query)    \n",
    "    #processed_query = re.sub(r'https?:\\/\\/\\S*', '', query, flags=re.MULTILINE)\n",
    "\n",
    "    #Remove Punctuation Marks and Special Symbols\n",
    "    processed_query = re.sub('[^a-zA-Z0-9]', ' ', processed_query)\n",
    "\n",
    "    #Lowercase\n",
    "    processed_query = processed_query.lower()\n",
    "\n",
    "    #Create a list of strings using string.split() method\n",
    "    processed_query = processed_query.split()\n",
    "\n",
    "    # Prefer Lemmatization over Stemming\n",
    "    #processed_query = [ps.stem(word) for word in processed_query if not word in stopwords.words('english')]\n",
    "    processed_query = [wl.lemmatize(word, pos='v') for word in processed_query if not word in stopwords.words('english')]    \n",
    "    processed_query = ' '.join(processed_query)\n",
    "    # corpus.append(processed_query)\n",
    "    # print(i, end = ' ')\n",
    "\n",
    "    new_corpus = []\n",
    "    for desc in corpus:\n",
    "        new_corpus.append(desc)\n",
    "    new_corpus.append(processed_query)\n",
    "    #new_corpus\n",
    "\n",
    "    from sklearn.feature_extraction.text import CountVectorizer\n",
    "    cv = CountVectorizer()\n",
    "    new_X = cv.fit_transform(new_corpus)\n",
    "    new_vectors = new_X.toarray()\n",
    "    \n",
    "    from sklearn.metrics.pairwise import sigmoid_kernel\n",
    "    new_correlationMatrix = sigmoid_kernel(new_vectors, new_vectors)\n",
    "    #print(new_correlationMatrix)\n",
    "    \n",
    "    list_of_tuples = []\n",
    "    for i in range(len(df)):\n",
    "        list_of_tuples.append((new_correlationMatrix[-1][i], i))\n",
    "    sorted_list_of_tuples = sorted(list_of_tuples, reverse = True)\n",
    "    recommendation_list = []\n",
    "    for element in sorted_list_of_tuples:\n",
    "        recommendation_list.append(index_destination_dict[element[1]])\n",
    "    return recommendation_list[:num]"
   ]
  },
  {
   "cell_type": "code",
   "execution_count": null,
   "metadata": {
    "scrolled": true
   },
   "outputs": [],
   "source": [
    "query = str(input('Enter a free text to get relvent destination recommendations: '))\n",
    "final_recommendation_list = getRecommendations_based_on_free_text_based_query(query, 10)\n",
    "for destination in final_recommendation_list:\n",
    "    print(destination)"
   ]
  },
  {
   "cell_type": "code",
   "execution_count": 47,
   "metadata": {},
   "outputs": [],
   "source": [
    "def getRecommendations_based_on_free_text_based_query(query, num):\n",
    "    #Remove HTML Tags\n",
    "    processed_query = re.sub(r\"http\\S+\", ' ', query)    \n",
    "    #processed_query = re.sub(r'https?:\\/\\/\\S*', '', query, flags=re.MULTILINE)\n",
    "\n",
    "    #Remove Punctuation Marks and Special Symbols\n",
    "    processed_query = re.sub('[^a-zA-Z0-9]', ' ', processed_query)\n",
    "\n",
    "    #Lowercase\n",
    "    processed_query = processed_query.lower()\n",
    "\n",
    "    #Create a list of strings using string.split() method\n",
    "    processed_query = processed_query.split()\n",
    "\n",
    "    # Prefer Lemmatization over Stemming\n",
    "    #processed_query = [ps.stem(word) for word in processed_query if not word in stopwords.words('english')]\n",
    "    processed_query = [wl.lemmatize(word, pos='v') for word in processed_query if not word in stopwords.words('english')]    \n",
    "    processed_query = ' '.join(processed_query)\n",
    "    # corpus.append(processed_query)\n",
    "    # print(i, end = ' ')\n",
    "\n",
    "    new_corpus = []\n",
    "    for desc in corpus:\n",
    "        new_corpus.append(desc)\n",
    "    new_corpus.append(processed_query)\n",
    "    #new_corpus\n",
    "\n",
    "    from sklearn.feature_extraction.text import CountVectorizer\n",
    "    cv = CountVectorizer()\n",
    "    new_X = cv.fit_transform(new_corpus)\n",
    "    new_vectors = new_X.toarray()\n",
    "    \n",
    "    list_of_tuples = []\n",
    "    from numpy.linalg import norm\n",
    "    for i in range(len(df)):\n",
    "        cosine_similarity = np.dot(new_vectors[i], new_vectors[-1])/(norm(new_vectors[i])*norm(new_vectors[-1]))\n",
    "        list_of_tuples.append((cosine_similarity, i))\n",
    "    \n",
    "    sorted_list_of_tuples = sorted(list_of_tuples, reverse = True)\n",
    "    recommendation_list = []\n",
    "    for element in sorted_list_of_tuples:\n",
    "        recommendation_list.append(index_destination_dict[element[1]])\n",
    "    return recommendation_list[:num]"
   ]
  },
  {
   "cell_type": "code",
   "execution_count": null,
   "metadata": {},
   "outputs": [],
   "source": [
    "query = str(input('Enter a free text to get relvent destination recommendations: '))\n",
    "final_recommendation_list = getRecommendations_based_on_free_text_based_query(query, 10)\n",
    "for destination in final_recommendation_list:\n",
    "    print(destination)"
   ]
  },
  {
   "cell_type": "code",
   "execution_count": null,
   "metadata": {},
   "outputs": [],
   "source": []
  },
  {
   "cell_type": "markdown",
   "metadata": {},
   "source": [
    "# Travel Destination Recommendation System\n",
    "                                                                        -Kartik joshi\n",
    "- Version 1: Recommendations based on Previously Visited Destination\n",
    "- Version 2: Recommendations based on Free Text-based Query from the User"
   ]
  }
 ],
 "metadata": {
  "kernelspec": {
   "display_name": "Python 3 (ipykernel)",
   "language": "python",
   "name": "python3"
  },
  "language_info": {
   "codemirror_mode": {
    "name": "ipython",
    "version": 3
   },
   "file_extension": ".py",
   "mimetype": "text/x-python",
   "name": "python",
   "nbconvert_exporter": "python",
   "pygments_lexer": "ipython3",
   "version": "3.9.12"
  }
 },
 "nbformat": 4,
 "nbformat_minor": 4
}
